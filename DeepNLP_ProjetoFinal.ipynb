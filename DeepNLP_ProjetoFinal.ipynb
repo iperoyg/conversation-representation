{
 "cells": [
  {
   "cell_type": "markdown",
   "metadata": {},
   "source": [
    "# DEEP NLP - Trabalho Final\n",
    "## Detecção da mudança de assunto em uma conversa através da análise da representação vetorial em janela deslizante"
   ]
  },
  {
   "cell_type": "markdown",
   "metadata": {},
   "source": [
    "### Bibliotecas necessárias"
   ]
  },
  {
   "cell_type": "code",
   "execution_count": 60,
   "metadata": {},
   "outputs": [],
   "source": [
    "from sklearn.manifold import TSNE\n",
    "import umap.umap_ as umap\n",
    "\n",
    "import pandas as pd\n",
    "import numpy as np\n",
    "\n",
    "from gensim.models.doc2vec import Doc2Vec, TaggedDocument\n",
    "\n",
    "import matplotlib.pyplot as plt\n",
    "from scipy import spatial\n",
    "\n",
    "from tqdm import tqdm"
   ]
  },
  {
   "cell_type": "markdown",
   "metadata": {},
   "source": [
    "### Obtenção dos dados"
   ]
  },
  {
   "cell_type": "code",
   "execution_count": 3,
   "metadata": {},
   "outputs": [],
   "source": [
    "conversation_df = pd.read_pickle(\"data/conversation_data_1.pkl\")"
   ]
  },
  {
   "cell_type": "markdown",
   "metadata": {},
   "source": [
    "## Análises\n",
    "\n",
    "Abaixo serão apresentadas as análises realizadas utilizando T-SNE e comparações vetoriais"
   ]
  },
  {
   "cell_type": "markdown",
   "metadata": {},
   "source": [
    "#### T-SNE - Análises qualitativas"
   ]
  },
  {
   "cell_type": "code",
   "execution_count": 59,
   "metadata": {},
   "outputs": [],
   "source": [
    "def get_for_plot(chunks, column_id=\"new_id\", n_c = 2):\n",
    "    \n",
    "    tsne = TSNE(n_components=n_c, perplexity=3, n_iter=2000, random_state=13)\n",
    "    reducer = umap.UMAP(random_state=13)\n",
    "    \n",
    "    dim_array = np.concatenate([x for x in conversation_df['doc2vec'].values], axis=0)\n",
    "    plots = list()\n",
    "    id_list = list()\n",
    "    time_list = list()\n",
    "    id_list2 = list()\n",
    "    time_list2 = list()\n",
    "    actual = None\n",
    "    acc = 0\n",
    "    acc2 = 0\n",
    "    chunks_list = list(chunks[column_id].values)\n",
    "    for index, i in enumerate(tqdm(chunks_list)):\n",
    "        if actual is None or actual != i:\n",
    "            if len(id_list2) > 0:\n",
    "                #dim_reduction = tsne.fit_transform(dim_array[index-len(id_list2):index])\n",
    "                dim_reduction = reducer.fit_transform(dim_array[index-len(id_list2):index])\n",
    "                plots.append( (id_list2, time_list2, dim_reduction) )\n",
    "            id_list2 = list()\n",
    "            time_list2 = list()\n",
    "            actual = i\n",
    "            acc2=0\n",
    "            acc+=1\n",
    "        acc2 +=1\n",
    "        id_list.append(acc)\n",
    "        time_list.append(acc2)\n",
    "        id_list2.append(acc)\n",
    "        time_list2.append(acc2)\n",
    "    index = len(list(chunks[column_id].values))\n",
    "    #dim_reduction = tsne.fit_transform(dim_array[index-len(id_list2):index])\n",
    "    dim_reduction = reducer.fit_transform(dim_array[index-len(id_list2):index])\n",
    "    plots.append( (id_list2, time_list2, dim_reduction) )\n",
    "    tsne_results = tsne.fit_transform(n)\n",
    "    return plots, id_list, time_list, tsne_results"
   ]
  },
  {
   "cell_type": "code",
   "execution_count": 65,
   "metadata": {},
   "outputs": [],
   "source": [
    "filtered_conversation_df = conversation_df[conversation_df[\"new_id\"].isin([0,10,50,100])]"
   ]
  },
  {
   "cell_type": "code",
   "execution_count": 66,
   "metadata": {},
   "outputs": [
    {
     "name": "stderr",
     "output_type": "stream",
     "text": [
      "100%|██████████████████████████████████████████████████████████| 501/501 [00:00<00:00, 762.55it/s]\n"
     ]
    }
   ],
   "source": [
    "plots1d, idl1, tl1, tsne1 = get_for_plot(filtered_conversation_df, \"new_id\", 1)"
   ]
  },
  {
   "cell_type": "code",
   "execution_count": 67,
   "metadata": {},
   "outputs": [
    {
     "name": "stderr",
     "output_type": "stream",
     "text": [
      "100%|██████████████████████████████████████████████████████████| 501/501 [00:00<00:00, 859.34it/s]\n"
     ]
    }
   ],
   "source": [
    "plots2d, idl2, tl2, tsne2 = get_for_plot(filtered_conversation_df, \"new_id\", 2)"
   ]
  },
  {
   "cell_type": "code",
   "execution_count": null,
   "metadata": {},
   "outputs": [],
   "source": [
    "chunks_list = [x for x in conversation_df['doc2vec'].values]\n",
    "chunks_distances = [(spatial.distance.cosine(chunks_list[i], chunks_list[i+1])) for i in range(0, len(chunks_list)-1)]\n",
    "len(chunks_list)"
   ]
  },
  {
   "cell_type": "code",
   "execution_count": null,
   "metadata": {},
   "outputs": [],
   "source": []
  }
 ],
 "metadata": {
  "kernelspec": {
   "display_name": "Python (deepnlp)",
   "language": "python",
   "name": "deepnlp_tp1"
  },
  "language_info": {
   "codemirror_mode": {
    "name": "ipython",
    "version": 3
   },
   "file_extension": ".py",
   "mimetype": "text/x-python",
   "name": "python",
   "nbconvert_exporter": "python",
   "pygments_lexer": "ipython3",
   "version": "3.7.4"
  }
 },
 "nbformat": 4,
 "nbformat_minor": 2
}
